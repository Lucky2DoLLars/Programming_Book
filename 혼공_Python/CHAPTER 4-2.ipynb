{
 "cells": [
  {
   "cell_type": "markdown",
   "metadata": {},
   "source": [
    "# 혼자 공부하는 파이썬 연습문제\n",
    "### CHAPTER 4-2"
   ]
  },
  {
   "cell_type": "code",
   "execution_count": 1,
   "metadata": {},
   "outputs": [
    {
     "data": {
      "text/plain": [
       "{}"
      ]
     },
     "execution_count": 1,
     "metadata": {},
     "output_type": "execute_result"
    }
   ],
   "source": [
    "# 1\n",
    "\n",
    "dict_a = {}\n",
    "dict_a['name'] = '구름'\n",
    "dict_a.clear()\n",
    "dict_a"
   ]
  },
  {
   "cell_type": "code",
   "execution_count": 2,
   "metadata": {},
   "outputs": [
    {
     "name": "stdout",
     "output_type": "stream",
     "text": [
      "# 우리 동네 애완 동물들\n",
      "구름 5살\n",
      "초코 3살\n",
      "아지 1살\n",
      "호랑이 1살\n"
     ]
    }
   ],
   "source": [
    "#2\n",
    "\n",
    "pets = [{\"name\" : \"구름\", \"age\" : 5},\n",
    "        {\"name\" : \"초코\", \"age\" : 3},\n",
    "        {\"name\" : \"아지\", \"age\" : 1},\n",
    "        {\"name\" : \"호랑이\", \"age\" : 1}]\n",
    "\n",
    "print(\"# 우리 동네 애완 동물들\")\n",
    "for dict in pets:\n",
    "    print(dict[\"name\"], \"{}살\".format(dict[\"age\"]))"
   ]
  },
  {
   "cell_type": "code",
   "execution_count": 3,
   "metadata": {},
   "outputs": [
    {
     "data": {
      "text/plain": [
       "{1: 2, 5: 6, 2: 3, 4: 2, 6: 5, 3: 4, 7: 1, 8: 1}"
      ]
     },
     "execution_count": 3,
     "metadata": {},
     "output_type": "execute_result"
    }
   ],
   "source": [
    "#3\n",
    "\n",
    "numbers = [1,5,2,4,6,6,2,3,4,5,5,1,2,3,5,3,5,6,3,7,6,8,5,6]\n",
    "counter = {}\n",
    "\n",
    "for number in numbers:\n",
    "    if number not in counter:\n",
    "        counter[number] = 1\n",
    "    else:\n",
    "        counter[number] += 1\n",
    "\n",
    "counter"
   ]
  },
  {
   "cell_type": "code",
   "execution_count": 4,
   "metadata": {},
   "outputs": [
    {
     "name": "stdout",
     "output_type": "stream",
     "text": [
      "name : 기사\n",
      "level : 12\n",
      "items : sword\n",
      "items : armor\n",
      "skill : 베기\n",
      "skill : 세개 베기\n",
      "skill : 아주 세게 베기\n"
     ]
    }
   ],
   "source": [
    "#4\n",
    "\n",
    "character = {\n",
    "    \"name\" : \"기사\",\n",
    "    \"level\" : 12,\n",
    "    \"items\" : {\n",
    "        \"sword\" : \"불꽃의 검\",\n",
    "        \"armor\" : \"풀플레이트\"\n",
    "    },\n",
    "    \"skill\" : [\"베기\", \"세개 베기\", \"아주 세게 베기\"]\n",
    "}\n",
    "\n",
    "for key in character:\n",
    "    if (type(character[key]) is str) or (type(character[key]) is int):\n",
    "        print(key, \":\", character[key])\n",
    "    elif type(character[key]) is dict:\n",
    "        for inner_key in character[key]:\n",
    "            print(inner_key, \":\", character[key][inner_key])\n",
    "    else:\n",
    "        for element in character[key]:\n",
    "            print(key, \":\", element)"
   ]
  }
 ],
 "metadata": {
  "kernelspec": {
   "display_name": "Python 3",
   "language": "python",
   "name": "python3"
  },
  "language_info": {
   "codemirror_mode": {
    "name": "ipython",
    "version": 3
   },
   "file_extension": ".py",
   "mimetype": "text/x-python",
   "name": "python",
   "nbconvert_exporter": "python",
   "pygments_lexer": "ipython3",
   "version": "3.8.5"
  }
 },
 "nbformat": 4,
 "nbformat_minor": 4
}
