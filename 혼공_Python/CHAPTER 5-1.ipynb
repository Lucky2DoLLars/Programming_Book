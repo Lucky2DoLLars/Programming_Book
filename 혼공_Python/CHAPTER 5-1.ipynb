{
 "cells": [
  {
   "cell_type": "markdown",
   "metadata": {},
   "source": [
    "# 혼자 공부하는 Python 확인문제\n",
    "### CHAPTER 5-1"
   ]
  },
  {
   "cell_type": "code",
   "execution_count": 1,
   "metadata": {},
   "outputs": [
    {
     "name": "stdout",
     "output_type": "stream",
     "text": [
      "21\n",
      "29\n"
     ]
    }
   ],
   "source": [
    "# 1\n",
    "\n",
    "def f(x):\n",
    "    return 2 * x + 1\n",
    "print(f(10))\n",
    "\n",
    "def f(x):\n",
    "    return x^2 + 2 * x + 1\n",
    "print(f(10))"
   ]
  },
  {
   "cell_type": "code",
   "execution_count": 2,
   "metadata": {},
   "outputs": [
    {
     "name": "stdout",
     "output_type": "stream",
     "text": [
      "3150\n"
     ]
    }
   ],
   "source": [
    "# 2\n",
    "\n",
    "def mul(*values):\n",
    "    output = 1\n",
    "    for value in values:\n",
    "        output *= value\n",
    "    return output\n",
    "\n",
    "print(mul(5, 7, 9, 10))"
   ]
  }
 ],
 "metadata": {
  "kernelspec": {
   "display_name": "Python 3",
   "language": "python",
   "name": "python3"
  },
  "language_info": {
   "codemirror_mode": {
    "name": "ipython",
    "version": 3
   },
   "file_extension": ".py",
   "mimetype": "text/x-python",
   "name": "python",
   "nbconvert_exporter": "python",
   "pygments_lexer": "ipython3",
   "version": "3.8.5"
  }
 },
 "nbformat": 4,
 "nbformat_minor": 4
}
