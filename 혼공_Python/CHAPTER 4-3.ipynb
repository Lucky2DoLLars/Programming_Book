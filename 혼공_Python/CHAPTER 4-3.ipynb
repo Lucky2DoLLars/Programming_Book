{
 "cells": [
  {
   "cell_type": "markdown",
   "metadata": {},
   "source": [
    "# 혼자 공부하는 파이썬 확인문제\n",
    "### CHAPTER 4-3"
   ]
  },
  {
   "cell_type": "code",
   "execution_count": 1,
   "metadata": {},
   "outputs": [
    {
     "data": {
      "text/plain": [
       "[3, 6, 9]"
      ]
     },
     "execution_count": 1,
     "metadata": {},
     "output_type": "execute_result"
    }
   ],
   "source": [
    "# 1\n",
    "\n",
    "list(range(4, 6))\n",
    "list(range(7, 0, -1))\n",
    "list(range(3, 10, 3))"
   ]
  },
  {
   "cell_type": "code",
   "execution_count": 2,
   "metadata": {},
   "outputs": [
    {
     "name": "stdout",
     "output_type": "stream",
     "text": [
      "{'name': '기사', 'hp': 200, 'mp': 30, 'level': 5}\n"
     ]
    }
   ],
   "source": [
    "# 2\n",
    "\n",
    "key_list = [\"name\", \"hp\", \"mp\", \"level\"]\n",
    "value_list = [\"기사\", 200, 30, 5]\n",
    "character = {}\n",
    "\n",
    "for i in range(len(key_list)):\n",
    "    character[key_list[i]] = value_list[i]\n",
    "\n",
    "print(character)"
   ]
  },
  {
   "cell_type": "code",
   "execution_count": 3,
   "metadata": {},
   "outputs": [
    {
     "name": "stdout",
     "output_type": "stream",
     "text": [
      "6를 더할 때 20을 넘으며 그때의 값은 21입니다.\n"
     ]
    }
   ],
   "source": [
    "# 3\n",
    "limit = 20\n",
    "i = 1\n",
    "sum_value = 1\n",
    "\n",
    "while sum_value <= limit:\n",
    "    i += 1\n",
    "    sum_value += i\n",
    "\n",
    "print(\"{}를 더할 때 {}을 넘으며 그때의 값은 {}입니다.\".format(i, limit, sum_value))"
   ]
  },
  {
   "cell_type": "code",
   "execution_count": 4,
   "metadata": {},
   "outputs": [
    {
     "name": "stdout",
     "output_type": "stream",
     "text": [
      "최대가 되는 경우: 50 * 50 = 2500\n"
     ]
    }
   ],
   "source": [
    "# 4\n",
    "\n",
    "max_value = 0\n",
    "a = 0\n",
    "b = 0\n",
    "\n",
    "for i in range(1, 100 + 1):\n",
    "    j = 100 - i\n",
    "\n",
    "    current_value = i * j\n",
    "    if current_value > max_value:\n",
    "        a = i\n",
    "        b = j\n",
    "        max_value = current_value\n",
    "\n",
    "print(\"최대가 되는 경우: {} * {} = {}\".format(a, b, max_value))"
   ]
  }
 ],
 "metadata": {
  "kernelspec": {
   "display_name": "Python 3",
   "language": "python",
   "name": "python3"
  },
  "language_info": {
   "codemirror_mode": {
    "name": "ipython",
    "version": 3
   },
   "file_extension": ".py",
   "mimetype": "text/x-python",
   "name": "python",
   "nbconvert_exporter": "python",
   "pygments_lexer": "ipython3",
   "version": "3.8.5"
  }
 },
 "nbformat": 4,
 "nbformat_minor": 4
}
